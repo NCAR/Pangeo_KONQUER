{
 "cells": [
  {
   "cell_type": "code",
   "execution_count": 2,
   "metadata": {},
   "outputs": [],
   "source": [
    "import requests\n",
    "from contextlib import closing\n",
    "import csv\n",
    "import pandas as pd\n",
    "import xarray as xr"
   ]
  },
  {
   "cell_type": "code",
   "execution_count": 8,
   "metadata": {},
   "outputs": [],
   "source": [
    "# reading in era5 files\n",
    "countries_file = '../era5_ne_countries.csv'\n",
    "era5_countries = pd.read_csv(countries_file).to_xarray()\n",
    "\n",
    "states_file = '../era5_ne_states.csv'\n",
    "era5_states = pd.read_csv(states_file).to_xarray()"
   ]
  },
  {
   "cell_type": "code",
   "execution_count": null,
   "metadata": {},
   "outputs": [],
   "source": [
    "#find closest index from era5\n",
    "def find_era5_index(lat, lon, era5):\n",
    "    era5_index = era5.index.values\n",
    "    era5_lat = era5.cent_lat.values\n",
    "    era5_lon = era5.cent_lon.values\n",
    "\n",
    "    dist = [(lat - era5_lat[i])**2 + (lon - era5_lon[i])**2 for i in era5_index]\n",
    "    index = dist.index(min(dist))\n",
    "    return index"
   ]
  },
  {
   "cell_type": "code",
   "execution_count": null,
   "metadata": {},
   "outputs": [],
   "source": [
    "url = 'https://raw.githubusercontent.com/CSSEGISandData/COVID-19/master/csse_covid_19_data/csse_covid_19_time_series/time_series_covid19_confirmed_global.csv'\n",
    "\n",
    "with closing(requests.get(url, stream=True)) as r:\n",
    "    f = (line.decode('utf-8') for line in r.iter_lines())\n",
    "    reader = csv.reader(f, delimiter=',', quotechar='\"')\n",
    "    \n",
    "    header = next(reader)\n",
    "    time = pd.date_range(start=header[4], end=header[-1])\n",
    "    \n",
    "    ds_dict = {}\n",
    "    \n",
    "    for line in reader:\n",
    "        \n",
    "        # columns\n",
    "        state = line[0]\n",
    "        country = line[1]\n",
    "        lat = float(line[2])\n",
    "        lon = float(line[3])\n",
    "        cases = [float(i) for i in line[4:]]\n",
    "        \n",
    "        # name\n",
    "        if state:\n",
    "            region_name = (state +'_' + country).replace(' ', '_').lower()\n",
    "        else:\n",
    "            region_name = country.replace(' ', '_').replace(',', '').lower()     \n",
    "        \n",
    "        # find closest index from era5\n",
    "        countries_index = find_era5_index(lat, lon, era5_countries)\n",
    "        states_index = find_era5_index(lat, lon, era5_states)\n",
    "        \n",
    "        # create DataArray\n",
    "        da = xr.DataArray(cases, coords = [time], dims = ['time'], name = region_name)\n",
    "        da.attrs['lat'] = lat\n",
    "        da.attrs['lon'] = lon\n",
    "        da.attrs['state'] = state\n",
    "        da.attrs['country'] = country\n",
    "        da.attrs['era5_countries_index'] = countries_index\n",
    "        da.attrs['era5_states_index'] = states_index\n",
    "        \n",
    "        # filling dataset dictionary\n",
    "        ds_dict[region_name] = da.to_dict()\n",
    "\n",
    "#create DataSet\n",
    "ds = xr.Dataset.from_dict(ds_dict)\n",
    "\n",
    "print(ds)"
   ]
  },
  {
   "cell_type": "code",
   "execution_count": 4,
   "metadata": {},
   "outputs": [
    {
     "ename": "NameError",
     "evalue": "name 'ds' is not defined",
     "output_type": "error",
     "traceback": [
      "\u001b[0;31m---------------------------------------------------------------------------\u001b[0m",
      "\u001b[0;31mNameError\u001b[0m                                 Traceback (most recent call last)",
      "\u001b[0;32m<ipython-input-4-b8be6f17d082>\u001b[0m in \u001b[0;36m<module>\u001b[0;34m\u001b[0m\n\u001b[0;32m----> 1\u001b[0;31m \u001b[0mds\u001b[0m\u001b[0;34m[\u001b[0m\u001b[0;34m'korea_south'\u001b[0m\u001b[0;34m]\u001b[0m\u001b[0;34m\u001b[0m\u001b[0;34m\u001b[0m\u001b[0m\n\u001b[0m",
      "\u001b[0;31mNameError\u001b[0m: name 'ds' is not defined"
     ]
    }
   ],
   "source": [
    "ds['korea_south']"
   ]
  },
  {
   "cell_type": "code",
   "execution_count": null,
   "metadata": {},
   "outputs": [],
   "source": []
  }
 ],
 "metadata": {
  "kernelspec": {
   "display_name": "Python 3",
   "language": "python",
   "name": "python3"
  },
  "language_info": {
   "codemirror_mode": {
    "name": "ipython",
    "version": 3
   },
   "file_extension": ".py",
   "mimetype": "text/x-python",
   "name": "python",
   "nbconvert_exporter": "python",
   "pygments_lexer": "ipython3",
   "version": "3.7.1"
  }
 },
 "nbformat": 4,
 "nbformat_minor": 2
}
