{
 "cells": [
  {
   "cell_type": "markdown",
   "metadata": {},
   "source": [
    "# Coronavirus and ERA-5 Temperature Analysis\n",
    "\n",
    "## This notebook demonstrates:\n",
    "\n",
    "1. Reading in COVID-19 data (global or US only, updated daily) as an xr.Dataset().\n",
    "\n",
    "2. Matching state or country regions to shapes from an ERA-5 dataset based on string name value.\n",
    "\n",
    "3. Aggregating data where necessary (e.g. combine all cities in a state to produce a single array per state, or combine all states in a country).\n",
    "\n",
    "4. Calculating exponential growth rate of confirmed COVID-19 cases in each region by the formula:\n",
    "$$ P(t) = A e^{k  t}$$\n",
    "where *P* is the population at time *t*, *A* is the initial population value, and *k* is the growth rate.\n",
    "\n",
    "5. Scatter plotting exponential growth rate compared to mean temperatures from the ERA-5 dataset.\n",
    "\n",
    "Currently the notebook demonstrates steps 1, 2, and 3 for a combined global and US dataset. But then focuses on US states for steps 4 and 5.\n",
    "\n",
    "## Possible improvements:\n",
    "\n",
    "1. Adding exception cases for states or countries that could not be matched based on string value due to differing name conventions between the COVID-19 and ERA-5 datasets (e.g. Ivory Coast vs Cote d'Ivoire, US vs United States of America).\n",
    "\n",
    "2. Currently mean ERA-5 temperature is used for the entire window of November 2019 to February 2020 for simplicity. Perhaps it would be better to compare to mean temperature values from only the window of COVID-19 growth for each region.\n",
    "\n",
    "3. Including error bars on the temperature vs COVID-19 growth rate scatter plot.\n",
    "\n",
    "4. Adding comparison for other climate variables such as humidity.\n",
    "\n",
    "5. Currently the notebook only looks at confirmed cases. It may be interesting to look at recovered and fatal cases of COVID-19 as well.\n"
   ]
  },
  {
   "cell_type": "code",
   "execution_count": 1,
   "metadata": {},
   "outputs": [],
   "source": [
    "import requests\n",
    "from contextlib import closing\n",
    "import csv\n",
    "import numpy as np\n",
    "import pandas as pd\n",
    "import xarray as xr\n",
    "import matplotlib.pyplot as plt\n",
    "import math as m\n",
    "\n",
    "%matplotlib inline"
   ]
  },
  {
   "cell_type": "markdown",
   "metadata": {},
   "source": [
    "# Read COVID19 data"
   ]
  },
  {
   "cell_type": "code",
   "execution_count": 2,
   "metadata": {},
   "outputs": [],
   "source": [
    "covid_world_dict = {'url' : 'https://raw.githubusercontent.com/CSSEGISandData/COVID-19/master/csse_covid_19_data/csse_covid_19_time_series/time_series_covid19_confirmed_global.csv', \n",
    "    'city_i' : None,\n",
    "    'state_i': 0, \n",
    "    'country_i' : 1,\n",
    "    'time_i' : 4,\n",
    "    'time_f' : -1,\n",
    "    'cases_f' : None\n",
    "            }\n",
    "covid_US_dict = {'url' : 'https://raw.githubusercontent.com/CSSEGISandData/COVID-19/master/csse_covid_19_data/csse_covid_19_time_series/time_series_covid19_confirmed_US.csv',   \n",
    "    'city_i' : 5,\n",
    "    'state_i' : 6, \n",
    "    'country_i' : 7,\n",
    "    'time_i' : 11,\n",
    "    'time_f' : -1,\n",
    "    'cases_f' : None\n",
    "           }"
   ]
  },
  {
   "cell_type": "code",
   "execution_count": 3,
   "metadata": {},
   "outputs": [],
   "source": [
    "def read_covid_data(covid_dict):\n",
    "    '''\n",
    "    Returns a COVID19 dataset from html\n",
    "\n",
    "            Parameters:\n",
    "                covid_dict (dict): dictionary of information necessary to read COVID19 url\n",
    "                    and indices corresponding to state, country, and the first time value.\n",
    "                    Accepts: covid_world_dict or covid_US_dict\n",
    "\n",
    "            Returns:\n",
    "                ds (xr.Dataset): covid19 datasest with era5 index attributes \n",
    "    '''\n",
    "    with closing(requests.get(covid_dict['url'], stream=True)) as r:\n",
    "        f = (line.decode('utf-8') for line in r.iter_lines())\n",
    "        reader = csv.reader(f, delimiter=',')\n",
    "\n",
    "        header = next(reader)\n",
    "        time = pd.date_range(start=header[covid_dict['time_i']], end=header[covid_dict['time_f']])\n",
    "        \n",
    "        ds_dict = {} \n",
    "        for line in reader:\n",
    "            city = line[covid_dict['city_i']] if covid_dict['city_i'] else []\n",
    "            state = line[covid_dict['state_i']]\n",
    "            country = line[covid_dict['country_i']]\n",
    "            cases = [int(i) for i in line[covid_dict['time_i']:covid_dict['cases_f']]]\n",
    "            \n",
    "            if city:\n",
    "                combined_name = (city + ', ' + state +', ' + country)\n",
    "            elif state:\n",
    "                combined_name = (state +', ' + country)\n",
    "            else:\n",
    "                combined_name = country\n",
    "\n",
    "            da = xr.DataArray(cases, coords = [time], dims = ['time'], name = combined_name)\n",
    "            da.attrs['city'] = city\n",
    "            da.attrs['state'] = state\n",
    "            da.attrs['country'] = country\n",
    "\n",
    "            ds_dict[combined_name] = da.to_dict()\n",
    "        ds = xr.Dataset.from_dict(ds_dict)\n",
    "    return ds"
   ]
  },
  {
   "cell_type": "code",
   "execution_count": 5,
   "metadata": {
    "tags": [
     "outputPrepend"
    ]
   },
   "outputs": [],
   "source": [
    "ds_world = read_covid_data(covid_world_dict)\n",
    "ds_US = read_covid_data(covid_US_dict)\n",
    "ds = xr.merge([ds_world, ds_US])\n",
    "#print(ds)"
   ]
  },
  {
   "cell_type": "markdown",
   "metadata": {},
   "source": [
    "# Match to ERA5 shapes"
   ]
  },
  {
   "cell_type": "code",
   "execution_count": 6,
   "metadata": {},
   "outputs": [],
   "source": [
    "era5_state_dict = {'file' : '../era5_ne_states.csv', 'name' : 'name_en', 'region_level' : 'state'}\n",
    "era5_country_dict = {'file':'../era5_ne_countries.csv', 'name':'NAME_EN', 'region_level' : 'country'}"
   ]
  },
  {
   "cell_type": "code",
   "execution_count": 7,
   "metadata": {},
   "outputs": [],
   "source": [
    "def match_covid2era5(ds, era5_dict):\n",
    "    '''\n",
    "    Returns a COVID19 dataset with region names and indices corresponding with shapes in an ERA5 file. \n",
    "    Returned dataset does not contain information from regions that did not match the ERA5 shapes by name.\n",
    "\n",
    "            Parameters:\n",
    "                ds (xr.Dataset): dataset of COVID19 data\n",
    "                era5_dict (dict): dictionary of information necessary to read era5 file:\n",
    "                    file location, name variable, and region level\n",
    "                        Accepts: era5_state_dict or era5_country_dict\n",
    "\n",
    "            Returns:\n",
    "                ds_matched (xr.Dataset): covid19 datasest with era5 index attributes \n",
    "    '''\n",
    "    region_level = era5_dict['region_level']\n",
    "    era5 = pd.read_csv(era5_dict['file']).to_xarray()\n",
    "    era5_names = list(era5[era5_dict['name']].values)\n",
    "\n",
    "    region_dict = {}\n",
    "    region_set = set()\n",
    "    ds = ds.copy()\n",
    "    for da in ds:\n",
    "        region = ds[da].attrs[region_level]\n",
    "        \n",
    "        del ds[da].attrs['city']\n",
    "        if region_level == 'country':\n",
    "            del ds[da].attrs['state']\n",
    "            \n",
    "        if region not in region_set:\n",
    "            if region in era5_names:\n",
    "                index = era5_names.index(region)\n",
    "                ds[da].attrs['index'] = index \n",
    "                    \n",
    "                da_dict = ds[da].to_dict()\n",
    "                da_dict['name'] = region\n",
    "                region_dict[region] = da_dict\n",
    "\n",
    "                region_set.add(region)\n",
    "        else:\n",
    "            da_dict = ds[da].to_dict()                    \n",
    "            region_dict[region]['data'] = np.add(region_dict[region]['data'], da_dict['data'])  \n",
    "\n",
    "    ds_matched = xr.Dataset.from_dict(region_dict)\n",
    "    return ds_matched"
   ]
  },
  {
   "cell_type": "code",
   "execution_count": 8,
   "metadata": {},
   "outputs": [
    {
     "output_type": "stream",
     "name": "stdout",
     "text": "<xarray.Dataset>\nDimensions:                       (time: 82)\nDimensions without coordinates: time\nData variables:\n    Australian Capital Territory  (time) int64 0 0 0 0 0 ... 99 100 103 103 103\n    New South Wales               (time) int64 0 0 0 0 3 ... 2773 2822 2857 2857\n    Northern Territory            (time) int64 0 0 0 0 0 0 ... 28 28 28 28 28 28\n    Queensland                    (time) int64 0 0 0 0 0 ... 943 953 965 974 983\n    South Australia               (time) int64 0 0 0 0 0 ... 415 420 428 429 429\n    Tasmania                      (time) int64 0 0 0 0 0 ... 98 111 122 133 133\n    Victoria                      (time) int64 0 0 0 0 1 ... 1228 1241 1265 1268\n    Western Australia             (time) int64 0 0 0 0 0 ... 481 495 506 514 514\n    Alberta                       (time) int64 0 0 0 0 0 ... 1423 1451 1567 1567\n    British Columbia              (time) int64 0 0 0 0 0 ... 1336 1370 1445 1445\n    Manitoba                      (time) int64 0 0 0 0 0 ... 217 221 230 243 242\n    New Brunswick                 (time) int64 0 0 0 0 0 ... 105 108 112 112 114\n    Newfoundland and Labrador     (time) int64 0 0 0 0 0 ... 228 232 239 241 242\n    Nova Scotia                   (time) int64 0 0 0 0 0 ... 310 342 407 428 445\n    Ontario                       (time) int64 0 0 0 0 1 ... 5759 6237 6648 7049\n    Prince Edward Island          (time) int64 0 0 0 0 0 0 ... 22 25 25 25 25 25\n    Quebec                        (time) int64 0 0 0 0 ... 11677 12292 12846\n    Saskatchewan                  (time) int64 0 0 0 0 0 ... 260 271 285 289 298\n    Anhui                         (time) int64 1 9 15 39 60 ... 991 991 991 991\n    Beijing                       (time) int64 14 22 36 41 ... 588 588 589 589\n    Chongqing                     (time) int64 6 9 27 57 75 ... 579 579 579 579\n    Fujian                        (time) int64 1 5 10 18 35 ... 351 351 351 352\n    Gansu                         (time) int64 0 2 2 4 7 ... 139 139 139 139 139\n    Guangdong                     (time) int64 26 32 53 78 ... 1544 1548 1552\n    Guizhou                       (time) int64 1 3 3 4 5 ... 146 146 146 146 146\n    Hainan                        (time) int64 4 5 8 19 22 ... 168 168 168 168\n    Hebei                         (time) int64 1 1 2 8 13 ... 327 327 327 327\n    Heilongjiang                  (time) int64 0 2 4 9 15 ... 609 638 661 684\n    Henan                         (time) int64 5 5 9 32 ... 1276 1276 1276 1276\n    Hubei                         (time) int64 444 444 549 ... 67803 67803 67803\n    Hunan                         (time) int64 4 9 24 43 ... 1019 1019 1019 1019\n    Inner Mongolia                (time) int64 0 0 1 7 7 ... 124 126 128 155 189\n    Jiangsu                       (time) int64 1 5 9 18 33 ... 651 651 652 653\n    Jiangxi                       (time) int64 2 7 18 18 36 ... 937 937 937 937\n    Jilin                         (time) int64 0 1 3 4 4 6 ... 98 98 98 98 98 99\n    Liaoning                      (time) int64 2 3 4 17 21 ... 144 144 145 145\n    Macau                         (time) int64 1 2 2 2 5 6 ... 44 45 45 45 45 45\n    Qinghai                       (time) int64 0 0 0 1 1 6 ... 18 18 18 18 18 18\n    Shaanxi                       (time) int64 0 3 5 15 22 ... 256 256 256 256\n    Shandong                      (time) int64 2 6 15 27 46 ... 783 783 784 784\n    Shanghai                      (time) int64 9 16 20 33 40 ... 552 555 555 607\n    Shanxi                        (time) int64 1 1 1 6 9 ... 163 166 168 172 172\n    Sichuan                       (time) int64 5 8 15 28 44 ... 560 560 560 560\n    Tianjin                       (time) int64 4 4 8 10 14 ... 182 183 183 183\n    Tibet                         (time) int64 0 0 0 0 0 0 0 0 ... 1 1 1 1 1 1 1\n    Xinjiang                      (time) int64 0 2 2 3 4 5 ... 76 76 76 76 76 76\n    Yunnan                        (time) int64 1 2 5 11 16 ... 184 184 184 184\n    Zhejiang                      (time) int64 10 27 43 62 ... 1267 1267 1267\n    French Guiana                 (time) int64 0 0 0 0 0 0 ... 72 77 83 83 83 86\n    Guadeloupe                    (time) int64 0 0 0 0 0 ... 141 141 143 143 143\n    Mayotte                       (time) int64 0 0 0 0 0 ... 171 184 191 196 196\n    Martinique                    (time) int64 0 0 0 0 0 ... 154 154 155 155 155\n    Aruba                         (time) int64 0 0 0 0 0 0 ... 74 77 82 86 92 92\n    Sint Maarten                  (time) int64 0 0 0 0 0 0 ... 40 40 43 50 50 50\n    Northwest Territories         (time) int64 0 0 0 0 0 0 0 0 ... 5 5 5 5 5 5 5\n    Yukon                         (time) int64 0 0 0 0 0 0 0 0 ... 6 7 7 7 8 8 8\n    Saint Pierre and Miquelon     (time) int64 0 0 0 0 0 0 0 0 ... 1 1 1 1 1 1 1\n    Guam                          (time) int64 0 0 0 0 0 ... 121 128 130 133 133\n    Northern Mariana Islands      (time) int64 0 0 0 0 0 0 0 0 ... 6 6 6 6 6 6 6\n    Puerto Rico                   (time) int64 0 0 0 0 0 ... 620 683 725 788 897\n    Alabama                       (time) int64 0 0 0 0 0 ... 2703 2947 3217 3563\n    Alaska                        (time) int64 0 0 0 0 0 ... 226 235 246 257 272\n    Arizona                       (time) int64 0 0 0 0 1 ... 3018 3112 3393 3542\n    Arkansas                      (time) int64 0 0 0 0 0 ... 1119 1171 1228 1280\n    California                    (time) int64 0 0 0 0 ... 21081 21706 22795\n    Colorado                      (time) int64 0 0 0 0 0 ... 5655 6202 6513 7307\n    Connecticut                   (time) int64 0 0 0 0 ... 10538 11510 12035\n    Delaware                      (time) int64 0 0 0 0 0 ... 1209 1326 1479 1625\n    Florida                       (time) int64 0 0 0 0 ... 17531 18494 19895\n    Georgia                       (time) int64 0 0 0 0 ... 11485 12159 12452\n    Hawaii                        (time) int64 0 0 0 0 0 ... 410 442 442 465 499\n    Idaho                         (time) int64 0 0 0 0 0 ... 1232 1354 1396 1407\n    Illinois                      (time) int64 0 0 1 1 ... 17887 19180 20852\n    Indiana                       (time) int64 0 0 0 0 0 ... 6351 6907 7435 7928\n    Iowa                          (time) int64 0 0 0 0 0 ... 1270 1388 1510 1587\n    Kansas                        (time) int64 0 0 0 0 0 ... 1116 1117 1275 1344\n    Kentucky                      (time) int64 0 0 0 0 0 ... 1341 1693 1693 1963\n    Louisiana                     (time) int64 0 0 0 0 ... 19253 20014 20595\n    Maine                         (time) int64 0 0 0 0 0 ... 537 560 586 616 633\n    Maryland                      (time) int64 0 0 0 0 0 ... 6185 6968 7694 8225\n    Massachusetts                 (time) int64 0 0 0 0 ... 20974 22860 25475\n    Michigan                      (time) int64 0 0 0 0 ... 22434 23605 24244\n    Minnesota                     (time) int64 0 0 0 0 0 ... 1240 1336 1427 1621\n    Mississippi                   (time) int64 0 0 0 0 0 ... 2260 2469 2642 2781\n    Missouri                      (time) int64 0 0 0 0 0 ... 3432 3897 4108 4269\n    Montana                       (time) int64 0 0 0 0 0 ... 332 354 365 377 387\n    Nebraska                      (time) int64 0 0 0 0 0 ... 519 568 635 699 791\n    Nevada                        (time) int64 0 0 0 0 0 ... 2456 2722 2702 2836\n    New Hampshire                 (time) int64 0 0 0 0 0 ... 747 819 819 885 929\n    New Jersey                    (time) int64 0 0 0 0 ... 54588 58151 61850\n    New Mexico                    (time) int64 0 0 0 0 0 ... 865 1081 1091 1245\n    New York                      (time) int64 0 0 0 0 ... 172348 181026 189033\n    North Carolina                (time) int64 0 0 0 0 0 ... 3736 3965 4354 4570\n    North Dakota                  (time) int64 0 0 0 0 0 ... 251 269 278 293 308\n    Ohio                          (time) int64 0 0 0 0 0 ... 5512 5878 6250 6604\n    Oklahoma                      (time) int64 0 0 0 0 0 ... 1686 1794 1868 1970\n    Oregon                        (time) int64 0 0 0 0 0 ... 1321 1322 1371 1527\n    Pennsylvania                  (time) int64 0 0 0 0 ... 20051 21719 22938\n    Rhode Island                  (time) int64 0 0 0 0 0 ... 1727 1727 2349 2665\n    South Carolina                (time) int64 0 0 0 0 0 ... 2793 3067 3211 3320\n    South Dakota                  (time) int64 0 0 0 0 0 ... 393 447 536 626 730\n    Tennessee                     (time) int64 0 0 0 0 0 ... 4634 4891 5132 5508\n    Texas                         (time) int64 0 0 0 0 ... 12105 13023 13677\n    Utah                          (time) int64 0 0 0 0 0 ... 1856 2103 2207 2299\n    Vermont                       (time) int64 0 0 0 0 0 ... 605 628 679 711 727\n    Virginia                      (time) int64 0 0 0 0 0 ... 4042 4509 5077 5274\n    Washington                    (time) int64 1 1 1 1 ... 10119 10434 10609\n    West Virginia                 (time) int64 0 0 0 0 0 ... 483 514 574 577 593\n    Wisconsin                     (time) int64 0 0 0 0 0 ... 2886 3068 3213 3341\n    Wyoming                       (time) int64 0 0 0 0 0 ... 221 230 239 261 270\n"
    }
   ],
   "source": [
    "ds_states = match_covid2era5(ds, era5_state_dict)\n",
    "print(ds_states)\n",
    "# some states were dropped"
   ]
  },
  {
   "cell_type": "code",
   "execution_count": 9,
   "metadata": {},
   "outputs": [
    {
     "output_type": "stream",
     "name": "stdout",
     "text": "<xarray.Dataset>\nDimensions:                   (time: 82)\nDimensions without coordinates: time\nData variables:\n    Afghanistan               (time) int64 0 0 0 0 0 0 ... 444 484 521 555 607\n    Albania                   (time) int64 0 0 0 0 0 0 ... 400 409 416 433 446\n    Algeria                   (time) int64 0 0 0 0 0 ... 1666 1761 1825 1914\n    Angola                    (time) int64 0 0 0 0 0 0 0 ... 17 19 19 19 19 19\n    Argentina                 (time) int64 0 0 0 0 0 ... 1795 1975 1975 2142\n    Armenia                   (time) int64 0 0 0 0 0 0 ... 881 921 937 967 1013\n    Australia                 (time) int64 0 0 0 0 4 ... 6108 6215 6303 6315\n    Austria                   (time) int64 0 0 0 0 0 ... 13244 13555 13806 13945\n    Azerbaijan                (time) int64 0 0 0 0 0 0 ... 822 926 991 1058 1098\n    Bangladesh                (time) int64 0 0 0 0 0 0 ... 218 330 424 482 621\n    Belarus                   (time) int64 0 0 0 0 0 ... 1486 1981 2226 2578\n    Belgium                   (time) int64 0 0 0 0 0 ... 24983 26667 28018 29647\n    Benin                     (time) int64 0 0 0 0 0 0 0 ... 26 26 26 35 35 35\n    Bhutan                    (time) int64 0 0 0 0 0 0 0 0 0 ... 5 5 5 5 5 5 5 5\n    Bolivia                   (time) int64 0 0 0 0 0 0 ... 210 264 268 275 300\n    Bosnia and Herzegovina    (time) int64 0 0 0 0 0 0 ... 804 858 901 946 1009\n    Brazil                    (time) int64 0 0 0 0 0 ... 18092 19638 20727 22192\n    Brunei                    (time) int64 0 0 0 0 0 0 ... 135 135 136 136 136\n    Bulgaria                  (time) int64 0 0 0 0 0 0 ... 593 618 635 661 675\n    Burkina Faso              (time) int64 0 0 0 0 0 0 ... 414 443 443 484 497\n    Cambodia                  (time) int64 0 0 0 0 0 1 ... 117 119 119 120 122\n    Cameroon                  (time) int64 0 0 0 0 0 0 ... 730 730 820 820 820\n    Canada                    (time) int64 0 0 0 0 1 ... 20654 22059 23316 24298\n    Central African Republic  (time) int64 0 0 0 0 0 0 0 0 0 ... 8 8 8 8 8 8 8 8\n    Chad                      (time) int64 0 0 0 0 0 0 0 ... 9 10 10 11 11 11 18\n    Chile                     (time) int64 0 0 0 0 0 ... 5972 6501 6927 7213\n    Colombia                  (time) int64 0 0 0 0 0 ... 2223 2473 2709 2776\n    Costa Rica                (time) int64 0 0 0 0 0 0 ... 502 539 558 577 595\n    Croatia                   (time) int64 0 0 0 0 0 ... 1407 1495 1534 1600\n    Cuba                      (time) int64 0 0 0 0 0 0 ... 457 515 564 620 669\n    Cyprus                    (time) int64 0 0 0 0 0 0 ... 526 564 595 616 633\n    Denmark                   (time) int64 0 0 0 0 0 ... 5830 6014 6191 6369\n    Djibouti                  (time) int64 0 0 0 0 0 0 ... 135 135 150 187 214\n    Dominican Republic        (time) int64 0 0 0 0 0 ... 2349 2620 2759 2967\n    Ecuador                   (time) int64 0 0 0 0 0 ... 4965 7161 7257 7466\n    Egypt                     (time) int64 0 0 0 0 0 ... 1699 1794 1939 2065\n    El Salvador               (time) int64 0 0 0 0 0 0 ... 78 93 103 117 118 125\n    Equatorial Guinea         (time) int64 0 0 0 0 0 0 0 ... 16 18 18 18 18 21\n    Eritrea                   (time) int64 0 0 0 0 0 0 0 ... 31 33 33 34 34 34\n    Estonia                   (time) int64 0 0 0 0 0 ... 1207 1258 1304 1309\n    Ethiopia                  (time) int64 0 0 0 0 0 0 0 ... 52 55 56 65 69 71\n    Fiji                      (time) int64 0 0 0 0 0 0 0 ... 15 15 15 16 16 16\n    Finland                   (time) int64 0 0 0 0 0 ... 2605 2769 2905 2974\n    France                    (time) int64 0 0 2 3 ... 125931 130727 133670\n    Gabon                     (time) int64 0 0 0 0 0 0 0 ... 30 34 44 44 46 49\n    Georgia                   (time) int64 0 0 0 0 0 0 ... 211 218 234 242 257\n    Germany                   (time) int64 0 0 0 0 ... 122171 124908 127854\n    Ghana                     (time) int64 0 0 0 0 0 0 ... 313 378 378 408 566\n    Greece                    (time) int64 0 0 0 0 0 ... 1955 2011 2081 2114\n    Guatemala                 (time) int64 0 0 0 0 0 0 ... 77 87 95 126 137 155\n    Guinea                    (time) int64 0 0 0 0 0 0 ... 164 194 212 250 250\n    Guyana                    (time) int64 0 0 0 0 0 0 0 ... 33 37 37 37 45 45\n    Haiti                     (time) int64 0 0 0 0 0 0 0 ... 25 27 30 31 33 33\n    Honduras                  (time) int64 0 0 0 0 0 0 ... 312 343 382 392 393\n    Hungary                   (time) int64 0 0 0 0 0 ... 895 980 1190 1310 1410\n    Iceland                   (time) int64 0 0 0 0 0 ... 1648 1675 1689 1701\n    India                     (time) int64 0 0 0 0 0 ... 6725 7598 8446 9205\n    Indonesia                 (time) int64 0 0 0 0 0 ... 3293 3512 3842 4241\n    Iran                      (time) int64 0 0 0 0 0 ... 66220 68192 70029 71686\n    Iraq                      (time) int64 0 0 0 0 0 ... 1232 1279 1318 1352\n    Ireland                   (time) int64 0 0 0 0 0 ... 6574 8089 8928 9655\n    Israel                    (time) int64 0 0 0 0 0 ... 9968 10408 10743 11145\n    Italy                     (time) int64 0 0 0 0 ... 147577 152271 156363\n    Jamaica                   (time) int64 0 0 0 0 0 0 0 ... 63 63 63 63 65 69\n    Japan                     (time) int64 2 2 2 2 4 ... 4667 5530 6005 6748\n    Jordan                    (time) int64 0 0 0 0 0 0 ... 358 372 372 381 389\n    Kazakhstan                (time) int64 0 0 0 0 0 0 ... 727 781 812 865 951\n    Kenya                     (time) int64 0 0 0 0 0 0 ... 179 184 189 191 197\n    Kuwait                    (time) int64 0 0 0 0 0 0 ... 855 910 993 1154 1234\n    Kyrgyzstan                (time) int64 0 0 0 0 0 0 ... 270 280 298 339 377\n    Latvia                    (time) int64 0 0 0 0 0 0 ... 577 589 612 630 651\n    Lebanon                   (time) int64 0 0 0 0 0 0 ... 576 582 609 619 630\n    Liberia                   (time) int64 0 0 0 0 0 0 0 ... 14 31 31 37 48 50\n    Lithuania                 (time) int64 0 0 0 0 0 0 ... 912 955 999 1026 1053\n    Luxembourg                (time) int64 0 0 0 0 0 ... 3115 3223 3270 3281\n    Madagascar                (time) int64 0 0 0 0 0 0 0 ... 88 93 93 93 102 106\n    Malaysia                  (time) int64 0 0 0 3 4 ... 4228 4346 4530 4683\n    Mauritania                (time) int64 0 0 0 0 0 0 0 0 0 ... 6 6 6 6 7 7 7 7\n    Mexico                    (time) int64 0 0 0 0 0 ... 3181 3441 3844 4219\n    Moldova                   (time) int64 0 0 0 0 0 ... 1289 1438 1560 1662\n    Mongolia                  (time) int64 0 0 0 0 0 0 0 ... 15 16 16 16 16 16\n    Montenegro                (time) int64 0 0 0 0 0 0 ... 248 252 255 263 272\n    Morocco                   (time) int64 0 0 0 0 0 ... 1374 1448 1545 1661\n    Namibia                   (time) int64 0 0 0 0 0 0 0 ... 16 16 16 16 16 16\n    Nepal                     (time) int64 0 0 0 1 1 1 1 1 ... 9 9 9 9 9 9 9 12\n    Netherlands               (time) int64 0 0 0 0 0 ... 21903 23249 24571 25746\n    New Zealand               (time) int64 0 0 0 0 0 ... 1239 1283 1312 1330\n    Nicaragua                 (time) int64 0 0 0 0 0 0 0 0 0 ... 6 6 6 6 7 7 8 9\n    Niger                     (time) int64 0 0 0 0 0 0 ... 342 410 438 491 529\n    Nigeria                   (time) int64 0 0 0 0 0 0 ... 276 288 305 318 323\n    Norway                    (time) int64 0 0 0 0 0 ... 6211 6314 6409 6525\n    Oman                      (time) int64 0 0 0 0 0 0 ... 419 457 484 546 599\n    Pakistan                  (time) int64 0 0 0 0 0 ... 4489 4695 5011 5230\n    Panama                    (time) int64 0 0 0 0 0 ... 2528 2752 2974 3234\n    Papua New Guinea          (time) int64 0 0 0 0 0 0 0 0 0 ... 1 2 2 2 2 2 2 2\n    Paraguay                  (time) int64 0 0 0 0 0 0 ... 119 124 129 133 134\n    Peru                      (time) int64 0 0 0 0 0 ... 5256 5897 6848 7519\n    Philippines               (time) int64 0 0 0 0 0 ... 4076 4195 4428 4648\n    Poland                    (time) int64 0 0 0 0 0 ... 5575 5955 6356 6674\n    Portugal                  (time) int64 0 0 0 0 0 ... 13956 15472 15987 16585\n    Qatar                     (time) int64 0 0 0 0 0 ... 2376 2512 2728 2979\n    Romania                   (time) int64 0 0 0 0 0 ... 5202 5467 5990 6300\n    Russia                    (time) int64 0 0 0 0 0 ... 10131 11917 13584 15770\n    Rwanda                    (time) int64 0 0 0 0 0 0 ... 110 110 118 120 126\n    Saudi Arabia              (time) int64 0 0 0 0 0 ... 3287 3651 4033 4462\n    Senegal                   (time) int64 0 0 0 0 0 0 ... 244 250 265 278 280\n    Serbia                    (time) int64 0 0 0 0 0 ... 2867 3105 3380 3630\n    Slovakia                  (time) int64 0 0 0 0 0 0 ... 682 701 715 728 742\n    Slovenia                  (time) int64 0 0 0 0 0 ... 1124 1160 1188 1205\n    Somalia                   (time) int64 0 0 0 0 0 0 0 ... 7 8 12 12 21 21 25\n    South Africa              (time) int64 0 0 0 0 0 ... 1934 2003 2028 2173\n    Spain                     (time) int64 0 0 0 0 ... 158273 163027 166831\n    Sri Lanka                 (time) int64 0 0 0 0 0 1 ... 189 190 190 198 210\n    Sudan                     (time) int64 0 0 0 0 0 0 0 ... 14 14 15 17 19 19\n    Suriname                  (time) int64 0 0 0 0 0 0 0 ... 10 10 10 10 10 10\n    Sweden                    (time) int64 0 0 0 0 0 ... 9141 9685 10151 10483\n    Switzerland               (time) int64 0 0 0 0 0 ... 24051 24551 25107 25415\n    Tanzania                  (time) int64 0 0 0 0 0 0 0 ... 24 25 25 32 32 32\n    Thailand                  (time) int64 2 3 5 7 8 ... 2423 2473 2518 2551\n    Togo                      (time) int64 0 0 0 0 0 0 0 ... 65 70 73 76 76 76\n    Trinidad and Tobago       (time) int64 0 0 0 0 0 0 ... 107 109 109 112 113\n    Tunisia                   (time) int64 0 0 0 0 0 0 ... 628 643 671 685 707\n    Turkey                    (time) int64 0 0 0 0 0 ... 42282 47029 52167 56956\n    Uganda                    (time) int64 0 0 0 0 0 0 0 ... 52 53 53 53 53 54\n    Ukraine                   (time) int64 0 0 0 0 0 ... 1892 2203 2511 2777\n    United Arab Emirates      (time) int64 0 0 0 0 0 ... 2990 3360 3736 4123\n    United Kingdom            (time) int64 0 0 0 0 0 ... 65872 74605 79874 85206\n    Uruguay                   (time) int64 0 0 0 0 0 0 ... 424 456 473 494 480\n    Uzbekistan                (time) int64 0 0 0 0 0 0 ... 545 582 624 767 865\n    Venezuela                 (time) int64 0 0 0 0 0 0 ... 167 171 171 175 181\n    Vietnam                   (time) int64 0 2 2 2 2 2 ... 251 255 257 258 262\n    Zambia                    (time) int64 0 0 0 0 0 0 0 ... 39 39 39 40 40 43\n    Zimbabwe                  (time) int64 0 0 0 0 0 0 0 ... 11 11 11 13 14 14\n    Mozambique                (time) int64 0 0 0 0 0 0 0 ... 10 17 17 20 20 21\n    Syria                     (time) int64 0 0 0 0 0 0 0 ... 19 19 19 19 25 25\n    Belize                    (time) int64 0 0 0 0 0 0 0 0 ... 7 7 8 9 10 13 14\n    Laos                      (time) int64 0 0 0 0 0 0 0 ... 14 15 16 16 18 19\n    Libya                     (time) int64 0 0 0 0 0 0 0 ... 20 21 24 24 24 25\n    Guinea-Bissau             (time) int64 0 0 0 0 0 0 0 ... 33 33 36 36 38 38\n    Mali                      (time) int64 0 0 0 0 0 0 0 ... 56 59 74 87 87 105\n    Kosovo                    (time) int64 0 0 0 0 0 0 ... 184 184 250 283 283\n    Botswana                  (time) int64 0 0 0 0 0 0 0 0 ... 6 6 6 13 13 13 13\n    Burundi                   (time) int64 0 0 0 0 0 0 0 0 0 ... 3 3 3 3 3 3 5 5\n    Sierra Leone              (time) int64 0 0 0 0 0 0 0 0 ... 6 6 6 7 7 8 8 10\n    Malawi                    (time) int64 0 0 0 0 0 0 0 0 ... 4 5 8 8 8 9 12 13\n    South Sudan               (time) int64 0 0 0 0 0 0 0 0 0 ... 1 1 2 2 3 4 4 4\n    Western Sahara            (time) int64 0 0 0 0 0 0 0 0 0 ... 4 4 4 4 4 4 4 6\n    Yemen                     (time) int64 0 0 0 0 0 0 0 0 0 ... 0 0 0 0 0 1 1 1\n"
    }
   ],
   "source": [
    "ds_countries = match_covid2era5(ds, era5_country_dict)\n",
    "print(ds_countries)\n",
    "# some countries were dropped"
   ]
  },
  {
   "cell_type": "markdown",
   "metadata": {},
   "source": [
    "# Focus on the US"
   ]
  },
  {
   "cell_type": "code",
   "execution_count": 10,
   "metadata": {},
   "outputs": [],
   "source": [
    "#ds_US"
   ]
  },
  {
   "cell_type": "code",
   "execution_count": 11,
   "metadata": {},
   "outputs": [],
   "source": [
    "ds_US_states = match_covid2era5(ds_US, era5_state_dict)\n",
    "#print(ds_US_states)"
   ]
  },
  {
   "cell_type": "markdown",
   "metadata": {},
   "source": [
    "## Calculate Growth Rate in New York"
   ]
  },
  {
   "cell_type": "code",
   "execution_count": 12,
   "metadata": {},
   "outputs": [
    {
     "output_type": "stream",
     "name": "stdout",
     "text": "<xarray.DataArray 'New York' (time: 82)>\narray([     0,      0,      0,      0,      0,      0,      0,      0,      0,\n            0,      0,      0,      0,      0,      0,      0,      0,      0,\n            0,      0,      0,      0,      0,      0,      0,      0,      0,\n            0,      0,      0,      0,      0,      0,      0,      0,      0,\n            0,      0,      0,      0,      1,      2,     11,     23,     31,\n           76,    106,    142,    150,    220,    327,    421,    613,    615,\n          967,   1578,   3038,   5704,   8403,  11727,  15800,  20884,  25681,\n        30841,  37877,  44876,  52410,  59648,  66663,  75833,  83948,  92506,\n       102987, 113833, 123160, 131815, 139875, 151061, 161779, 172348, 181026,\n       189033])\nDimensions without coordinates: time\nAttributes:\n    state:    New York\n    country:  US\n    index:    1307\n"
    },
    {
     "output_type": "execute_result",
     "data": {
      "text/plain": "[<matplotlib.lines.Line2D at 0x122705128>]"
     },
     "metadata": {},
     "execution_count": 12
    },
    {
     "output_type": "display_data",
     "data": {
      "text/plain": "<Figure size 432x288 with 1 Axes>",
      "image/svg+xml": "<?xml version=\"1.0\" encoding=\"utf-8\" standalone=\"no\"?>\n<!DOCTYPE svg PUBLIC \"-//W3C//DTD SVG 1.1//EN\"\n  \"http://www.w3.org/Graphics/SVG/1.1/DTD/svg11.dtd\">\n<!-- Created with matplotlib (https://matplotlib.org/) -->\n<svg height=\"262.19625pt\" version=\"1.1\" viewBox=\"0 0 408.053125 262.19625\" width=\"408.053125pt\" xmlns=\"http://www.w3.org/2000/svg\" xmlns:xlink=\"http://www.w3.org/1999/xlink\">\n <defs>\n  <style type=\"text/css\">\n*{stroke-linecap:butt;stroke-linejoin:round;}\n  </style>\n </defs>\n <g id=\"figure_1\">\n  <g id=\"patch_1\">\n   <path d=\"M 0 262.19625 \nL 408.053125 262.19625 \nL 408.053125 0 \nL 0 0 \nz\n\" style=\"fill:none;\"/>\n  </g>\n  <g id=\"axes_1\">\n   <g id=\"patch_2\">\n    <path d=\"M 66.053125 224.64 \nL 400.853125 224.64 \nL 400.853125 7.2 \nL 66.053125 7.2 \nz\n\" style=\"fill:#ffffff;\"/>\n   </g>\n   <g id=\"matplotlib.axis_1\">\n    <g id=\"xtick_1\">\n     <g id=\"line2d_1\">\n      <defs>\n       <path d=\"M 0 0 \nL 0 3.5 \n\" id=\"m80f1064e79\" style=\"stroke:#000000;stroke-width:0.8;\"/>\n      </defs>\n      <g>\n       <use style=\"stroke:#000000;stroke-width:0.8;\" x=\"81.271307\" xlink:href=\"#m80f1064e79\" y=\"224.64\"/>\n      </g>\n     </g>\n     <g id=\"text_1\">\n      <!-- 0 -->\n      <defs>\n       <path d=\"M 31.78125 66.40625 \nQ 24.171875 66.40625 20.328125 58.90625 \nQ 16.5 51.421875 16.5 36.375 \nQ 16.5 21.390625 20.328125 13.890625 \nQ 24.171875 6.390625 31.78125 6.390625 \nQ 39.453125 6.390625 43.28125 13.890625 \nQ 47.125 21.390625 47.125 36.375 \nQ 47.125 51.421875 43.28125 58.90625 \nQ 39.453125 66.40625 31.78125 66.40625 \nz\nM 31.78125 74.21875 \nQ 44.046875 74.21875 50.515625 64.515625 \nQ 56.984375 54.828125 56.984375 36.375 \nQ 56.984375 17.96875 50.515625 8.265625 \nQ 44.046875 -1.421875 31.78125 -1.421875 \nQ 19.53125 -1.421875 13.0625 8.265625 \nQ 6.59375 17.96875 6.59375 36.375 \nQ 6.59375 54.828125 13.0625 64.515625 \nQ 19.53125 74.21875 31.78125 74.21875 \nz\n\" id=\"DejaVuSans-48\"/>\n      </defs>\n      <g transform=\"translate(78.090057 239.238437)scale(0.1 -0.1)\">\n       <use xlink:href=\"#DejaVuSans-48\"/>\n      </g>\n     </g>\n    </g>\n    <g id=\"xtick_2\">\n     <g id=\"line2d_2\">\n      <g>\n       <use style=\"stroke:#000000;stroke-width:0.8;\" x=\"118.847064\" xlink:href=\"#m80f1064e79\" y=\"224.64\"/>\n      </g>\n     </g>\n     <g id=\"text_2\">\n      <!-- 10 -->\n      <defs>\n       <path d=\"M 12.40625 8.296875 \nL 28.515625 8.296875 \nL 28.515625 63.921875 \nL 10.984375 60.40625 \nL 10.984375 69.390625 \nL 28.421875 72.90625 \nL 38.28125 72.90625 \nL 38.28125 8.296875 \nL 54.390625 8.296875 \nL 54.390625 0 \nL 12.40625 0 \nz\n\" id=\"DejaVuSans-49\"/>\n      </defs>\n      <g transform=\"translate(112.484564 239.238437)scale(0.1 -0.1)\">\n       <use xlink:href=\"#DejaVuSans-49\"/>\n       <use x=\"63.623047\" xlink:href=\"#DejaVuSans-48\"/>\n      </g>\n     </g>\n    </g>\n    <g id=\"xtick_3\">\n     <g id=\"line2d_3\">\n      <g>\n       <use style=\"stroke:#000000;stroke-width:0.8;\" x=\"156.422822\" xlink:href=\"#m80f1064e79\" y=\"224.64\"/>\n      </g>\n     </g>\n     <g id=\"text_3\">\n      <!-- 20 -->\n      <defs>\n       <path d=\"M 19.1875 8.296875 \nL 53.609375 8.296875 \nL 53.609375 0 \nL 7.328125 0 \nL 7.328125 8.296875 \nQ 12.9375 14.109375 22.625 23.890625 \nQ 32.328125 33.6875 34.8125 36.53125 \nQ 39.546875 41.84375 41.421875 45.53125 \nQ 43.3125 49.21875 43.3125 52.78125 \nQ 43.3125 58.59375 39.234375 62.25 \nQ 35.15625 65.921875 28.609375 65.921875 \nQ 23.96875 65.921875 18.8125 64.3125 \nQ 13.671875 62.703125 7.8125 59.421875 \nL 7.8125 69.390625 \nQ 13.765625 71.78125 18.9375 73 \nQ 24.125 74.21875 28.421875 74.21875 \nQ 39.75 74.21875 46.484375 68.546875 \nQ 53.21875 62.890625 53.21875 53.421875 \nQ 53.21875 48.921875 51.53125 44.890625 \nQ 49.859375 40.875 45.40625 35.40625 \nQ 44.1875 33.984375 37.640625 27.21875 \nQ 31.109375 20.453125 19.1875 8.296875 \nz\n\" id=\"DejaVuSans-50\"/>\n      </defs>\n      <g transform=\"translate(150.060322 239.238437)scale(0.1 -0.1)\">\n       <use xlink:href=\"#DejaVuSans-50\"/>\n       <use x=\"63.623047\" xlink:href=\"#DejaVuSans-48\"/>\n      </g>\n     </g>\n    </g>\n    <g id=\"xtick_4\">\n     <g id=\"line2d_4\">\n      <g>\n       <use style=\"stroke:#000000;stroke-width:0.8;\" x=\"193.99858\" xlink:href=\"#m80f1064e79\" y=\"224.64\"/>\n      </g>\n     </g>\n     <g id=\"text_4\">\n      <!-- 30 -->\n      <defs>\n       <path d=\"M 40.578125 39.3125 \nQ 47.65625 37.796875 51.625 33 \nQ 55.609375 28.21875 55.609375 21.1875 \nQ 55.609375 10.40625 48.1875 4.484375 \nQ 40.765625 -1.421875 27.09375 -1.421875 \nQ 22.515625 -1.421875 17.65625 -0.515625 \nQ 12.796875 0.390625 7.625 2.203125 \nL 7.625 11.71875 \nQ 11.71875 9.328125 16.59375 8.109375 \nQ 21.484375 6.890625 26.8125 6.890625 \nQ 36.078125 6.890625 40.9375 10.546875 \nQ 45.796875 14.203125 45.796875 21.1875 \nQ 45.796875 27.640625 41.28125 31.265625 \nQ 36.765625 34.90625 28.71875 34.90625 \nL 20.21875 34.90625 \nL 20.21875 43.015625 \nL 29.109375 43.015625 \nQ 36.375 43.015625 40.234375 45.921875 \nQ 44.09375 48.828125 44.09375 54.296875 \nQ 44.09375 59.90625 40.109375 62.90625 \nQ 36.140625 65.921875 28.71875 65.921875 \nQ 24.65625 65.921875 20.015625 65.03125 \nQ 15.375 64.15625 9.8125 62.3125 \nL 9.8125 71.09375 \nQ 15.4375 72.65625 20.34375 73.4375 \nQ 25.25 74.21875 29.59375 74.21875 \nQ 40.828125 74.21875 47.359375 69.109375 \nQ 53.90625 64.015625 53.90625 55.328125 \nQ 53.90625 49.265625 50.4375 45.09375 \nQ 46.96875 40.921875 40.578125 39.3125 \nz\n\" id=\"DejaVuSans-51\"/>\n      </defs>\n      <g transform=\"translate(187.63608 239.238437)scale(0.1 -0.1)\">\n       <use xlink:href=\"#DejaVuSans-51\"/>\n       <use x=\"63.623047\" xlink:href=\"#DejaVuSans-48\"/>\n      </g>\n     </g>\n    </g>\n    <g id=\"xtick_5\">\n     <g id=\"line2d_5\">\n      <g>\n       <use style=\"stroke:#000000;stroke-width:0.8;\" x=\"231.574337\" xlink:href=\"#m80f1064e79\" y=\"224.64\"/>\n      </g>\n     </g>\n     <g id=\"text_5\">\n      <!-- 40 -->\n      <defs>\n       <path d=\"M 37.796875 64.3125 \nL 12.890625 25.390625 \nL 37.796875 25.390625 \nz\nM 35.203125 72.90625 \nL 47.609375 72.90625 \nL 47.609375 25.390625 \nL 58.015625 25.390625 \nL 58.015625 17.1875 \nL 47.609375 17.1875 \nL 47.609375 0 \nL 37.796875 0 \nL 37.796875 17.1875 \nL 4.890625 17.1875 \nL 4.890625 26.703125 \nz\n\" id=\"DejaVuSans-52\"/>\n      </defs>\n      <g transform=\"translate(225.211837 239.238437)scale(0.1 -0.1)\">\n       <use xlink:href=\"#DejaVuSans-52\"/>\n       <use x=\"63.623047\" xlink:href=\"#DejaVuSans-48\"/>\n      </g>\n     </g>\n    </g>\n    <g id=\"xtick_6\">\n     <g id=\"line2d_6\">\n      <g>\n       <use style=\"stroke:#000000;stroke-width:0.8;\" x=\"269.150095\" xlink:href=\"#m80f1064e79\" y=\"224.64\"/>\n      </g>\n     </g>\n     <g id=\"text_6\">\n      <!-- 50 -->\n      <defs>\n       <path d=\"M 10.796875 72.90625 \nL 49.515625 72.90625 \nL 49.515625 64.59375 \nL 19.828125 64.59375 \nL 19.828125 46.734375 \nQ 21.96875 47.46875 24.109375 47.828125 \nQ 26.265625 48.1875 28.421875 48.1875 \nQ 40.625 48.1875 47.75 41.5 \nQ 54.890625 34.8125 54.890625 23.390625 \nQ 54.890625 11.625 47.5625 5.09375 \nQ 40.234375 -1.421875 26.90625 -1.421875 \nQ 22.3125 -1.421875 17.546875 -0.640625 \nQ 12.796875 0.140625 7.71875 1.703125 \nL 7.71875 11.625 \nQ 12.109375 9.234375 16.796875 8.0625 \nQ 21.484375 6.890625 26.703125 6.890625 \nQ 35.15625 6.890625 40.078125 11.328125 \nQ 45.015625 15.765625 45.015625 23.390625 \nQ 45.015625 31 40.078125 35.4375 \nQ 35.15625 39.890625 26.703125 39.890625 \nQ 22.75 39.890625 18.8125 39.015625 \nQ 14.890625 38.140625 10.796875 36.28125 \nz\n\" id=\"DejaVuSans-53\"/>\n      </defs>\n      <g transform=\"translate(262.787595 239.238437)scale(0.1 -0.1)\">\n       <use xlink:href=\"#DejaVuSans-53\"/>\n       <use x=\"63.623047\" xlink:href=\"#DejaVuSans-48\"/>\n      </g>\n     </g>\n    </g>\n    <g id=\"xtick_7\">\n     <g id=\"line2d_7\">\n      <g>\n       <use style=\"stroke:#000000;stroke-width:0.8;\" x=\"306.725852\" xlink:href=\"#m80f1064e79\" y=\"224.64\"/>\n      </g>\n     </g>\n     <g id=\"text_7\">\n      <!-- 60 -->\n      <defs>\n       <path d=\"M 33.015625 40.375 \nQ 26.375 40.375 22.484375 35.828125 \nQ 18.609375 31.296875 18.609375 23.390625 \nQ 18.609375 15.53125 22.484375 10.953125 \nQ 26.375 6.390625 33.015625 6.390625 \nQ 39.65625 6.390625 43.53125 10.953125 \nQ 47.40625 15.53125 47.40625 23.390625 \nQ 47.40625 31.296875 43.53125 35.828125 \nQ 39.65625 40.375 33.015625 40.375 \nz\nM 52.59375 71.296875 \nL 52.59375 62.3125 \nQ 48.875 64.0625 45.09375 64.984375 \nQ 41.3125 65.921875 37.59375 65.921875 \nQ 27.828125 65.921875 22.671875 59.328125 \nQ 17.53125 52.734375 16.796875 39.40625 \nQ 19.671875 43.65625 24.015625 45.921875 \nQ 28.375 48.1875 33.59375 48.1875 \nQ 44.578125 48.1875 50.953125 41.515625 \nQ 57.328125 34.859375 57.328125 23.390625 \nQ 57.328125 12.15625 50.6875 5.359375 \nQ 44.046875 -1.421875 33.015625 -1.421875 \nQ 20.359375 -1.421875 13.671875 8.265625 \nQ 6.984375 17.96875 6.984375 36.375 \nQ 6.984375 53.65625 15.1875 63.9375 \nQ 23.390625 74.21875 37.203125 74.21875 \nQ 40.921875 74.21875 44.703125 73.484375 \nQ 48.484375 72.75 52.59375 71.296875 \nz\n\" id=\"DejaVuSans-54\"/>\n      </defs>\n      <g transform=\"translate(300.363352 239.238437)scale(0.1 -0.1)\">\n       <use xlink:href=\"#DejaVuSans-54\"/>\n       <use x=\"63.623047\" xlink:href=\"#DejaVuSans-48\"/>\n      </g>\n     </g>\n    </g>\n    <g id=\"xtick_8\">\n     <g id=\"line2d_8\">\n      <g>\n       <use style=\"stroke:#000000;stroke-width:0.8;\" x=\"344.30161\" xlink:href=\"#m80f1064e79\" y=\"224.64\"/>\n      </g>\n     </g>\n     <g id=\"text_8\">\n      <!-- 70 -->\n      <defs>\n       <path d=\"M 8.203125 72.90625 \nL 55.078125 72.90625 \nL 55.078125 68.703125 \nL 28.609375 0 \nL 18.3125 0 \nL 43.21875 64.59375 \nL 8.203125 64.59375 \nz\n\" id=\"DejaVuSans-55\"/>\n      </defs>\n      <g transform=\"translate(337.93911 239.238437)scale(0.1 -0.1)\">\n       <use xlink:href=\"#DejaVuSans-55\"/>\n       <use x=\"63.623047\" xlink:href=\"#DejaVuSans-48\"/>\n      </g>\n     </g>\n    </g>\n    <g id=\"xtick_9\">\n     <g id=\"line2d_9\">\n      <g>\n       <use style=\"stroke:#000000;stroke-width:0.8;\" x=\"381.877367\" xlink:href=\"#m80f1064e79\" y=\"224.64\"/>\n      </g>\n     </g>\n     <g id=\"text_9\">\n      <!-- 80 -->\n      <defs>\n       <path d=\"M 31.78125 34.625 \nQ 24.75 34.625 20.71875 30.859375 \nQ 16.703125 27.09375 16.703125 20.515625 \nQ 16.703125 13.921875 20.71875 10.15625 \nQ 24.75 6.390625 31.78125 6.390625 \nQ 38.8125 6.390625 42.859375 10.171875 \nQ 46.921875 13.96875 46.921875 20.515625 \nQ 46.921875 27.09375 42.890625 30.859375 \nQ 38.875 34.625 31.78125 34.625 \nz\nM 21.921875 38.8125 \nQ 15.578125 40.375 12.03125 44.71875 \nQ 8.5 49.078125 8.5 55.328125 \nQ 8.5 64.0625 14.71875 69.140625 \nQ 20.953125 74.21875 31.78125 74.21875 \nQ 42.671875 74.21875 48.875 69.140625 \nQ 55.078125 64.0625 55.078125 55.328125 \nQ 55.078125 49.078125 51.53125 44.71875 \nQ 48 40.375 41.703125 38.8125 \nQ 48.828125 37.15625 52.796875 32.3125 \nQ 56.78125 27.484375 56.78125 20.515625 \nQ 56.78125 9.90625 50.3125 4.234375 \nQ 43.84375 -1.421875 31.78125 -1.421875 \nQ 19.734375 -1.421875 13.25 4.234375 \nQ 6.78125 9.90625 6.78125 20.515625 \nQ 6.78125 27.484375 10.78125 32.3125 \nQ 14.796875 37.15625 21.921875 38.8125 \nz\nM 18.3125 54.390625 \nQ 18.3125 48.734375 21.84375 45.5625 \nQ 25.390625 42.390625 31.78125 42.390625 \nQ 38.140625 42.390625 41.71875 45.5625 \nQ 45.3125 48.734375 45.3125 54.390625 \nQ 45.3125 60.0625 41.71875 63.234375 \nQ 38.140625 66.40625 31.78125 66.40625 \nQ 25.390625 66.40625 21.84375 63.234375 \nQ 18.3125 60.0625 18.3125 54.390625 \nz\n\" id=\"DejaVuSans-56\"/>\n      </defs>\n      <g transform=\"translate(375.514867 239.238437)scale(0.1 -0.1)\">\n       <use xlink:href=\"#DejaVuSans-56\"/>\n       <use x=\"63.623047\" xlink:href=\"#DejaVuSans-48\"/>\n      </g>\n     </g>\n    </g>\n    <g id=\"text_10\">\n     <!-- time -->\n     <defs>\n      <path d=\"M 18.3125 70.21875 \nL 18.3125 54.6875 \nL 36.8125 54.6875 \nL 36.8125 47.703125 \nL 18.3125 47.703125 \nL 18.3125 18.015625 \nQ 18.3125 11.328125 20.140625 9.421875 \nQ 21.96875 7.515625 27.59375 7.515625 \nL 36.8125 7.515625 \nL 36.8125 0 \nL 27.59375 0 \nQ 17.1875 0 13.234375 3.875 \nQ 9.28125 7.765625 9.28125 18.015625 \nL 9.28125 47.703125 \nL 2.6875 47.703125 \nL 2.6875 54.6875 \nL 9.28125 54.6875 \nL 9.28125 70.21875 \nz\n\" id=\"DejaVuSans-116\"/>\n      <path d=\"M 9.421875 54.6875 \nL 18.40625 54.6875 \nL 18.40625 0 \nL 9.421875 0 \nz\nM 9.421875 75.984375 \nL 18.40625 75.984375 \nL 18.40625 64.59375 \nL 9.421875 64.59375 \nz\n\" id=\"DejaVuSans-105\"/>\n      <path d=\"M 52 44.1875 \nQ 55.375 50.25 60.0625 53.125 \nQ 64.75 56 71.09375 56 \nQ 79.640625 56 84.28125 50.015625 \nQ 88.921875 44.046875 88.921875 33.015625 \nL 88.921875 0 \nL 79.890625 0 \nL 79.890625 32.71875 \nQ 79.890625 40.578125 77.09375 44.375 \nQ 74.3125 48.1875 68.609375 48.1875 \nQ 61.625 48.1875 57.5625 43.546875 \nQ 53.515625 38.921875 53.515625 30.90625 \nL 53.515625 0 \nL 44.484375 0 \nL 44.484375 32.71875 \nQ 44.484375 40.625 41.703125 44.40625 \nQ 38.921875 48.1875 33.109375 48.1875 \nQ 26.21875 48.1875 22.15625 43.53125 \nQ 18.109375 38.875 18.109375 30.90625 \nL 18.109375 0 \nL 9.078125 0 \nL 9.078125 54.6875 \nL 18.109375 54.6875 \nL 18.109375 46.1875 \nQ 21.1875 51.21875 25.484375 53.609375 \nQ 29.78125 56 35.6875 56 \nQ 41.65625 56 45.828125 52.96875 \nQ 50 49.953125 52 44.1875 \nz\n\" id=\"DejaVuSans-109\"/>\n      <path d=\"M 56.203125 29.59375 \nL 56.203125 25.203125 \nL 14.890625 25.203125 \nQ 15.484375 15.921875 20.484375 11.0625 \nQ 25.484375 6.203125 34.421875 6.203125 \nQ 39.59375 6.203125 44.453125 7.46875 \nQ 49.3125 8.734375 54.109375 11.28125 \nL 54.109375 2.78125 \nQ 49.265625 0.734375 44.1875 -0.34375 \nQ 39.109375 -1.421875 33.890625 -1.421875 \nQ 20.796875 -1.421875 13.15625 6.1875 \nQ 5.515625 13.8125 5.515625 26.8125 \nQ 5.515625 40.234375 12.765625 48.109375 \nQ 20.015625 56 32.328125 56 \nQ 43.359375 56 49.78125 48.890625 \nQ 56.203125 41.796875 56.203125 29.59375 \nz\nM 47.21875 32.234375 \nQ 47.125 39.59375 43.09375 43.984375 \nQ 39.0625 48.390625 32.421875 48.390625 \nQ 24.90625 48.390625 20.390625 44.140625 \nQ 15.875 39.890625 15.1875 32.171875 \nz\n\" id=\"DejaVuSans-101\"/>\n     </defs>\n     <g transform=\"translate(222.157031 252.916562)scale(0.1 -0.1)\">\n      <use xlink:href=\"#DejaVuSans-116\"/>\n      <use x=\"39.208984\" xlink:href=\"#DejaVuSans-105\"/>\n      <use x=\"66.992188\" xlink:href=\"#DejaVuSans-109\"/>\n      <use x=\"164.404297\" xlink:href=\"#DejaVuSans-101\"/>\n     </g>\n    </g>\n   </g>\n   <g id=\"matplotlib.axis_2\">\n    <g id=\"ytick_1\">\n     <g id=\"line2d_10\">\n      <defs>\n       <path d=\"M 0 0 \nL -3.5 0 \n\" id=\"m7c200a173a\" style=\"stroke:#000000;stroke-width:0.8;\"/>\n      </defs>\n      <g>\n       <use style=\"stroke:#000000;stroke-width:0.8;\" x=\"66.053125\" xlink:href=\"#m7c200a173a\" y=\"214.756364\"/>\n      </g>\n     </g>\n     <g id=\"text_11\">\n      <!-- 0 -->\n      <g transform=\"translate(52.690625 218.555582)scale(0.1 -0.1)\">\n       <use xlink:href=\"#DejaVuSans-48\"/>\n      </g>\n     </g>\n    </g>\n    <g id=\"ytick_2\">\n     <g id=\"line2d_11\">\n      <g>\n       <use style=\"stroke:#000000;stroke-width:0.8;\" x=\"66.053125\" xlink:href=\"#m7c200a173a\" y=\"188.613742\"/>\n      </g>\n     </g>\n     <g id=\"text_12\">\n      <!-- 25000 -->\n      <g transform=\"translate(27.240625 192.412961)scale(0.1 -0.1)\">\n       <use xlink:href=\"#DejaVuSans-50\"/>\n       <use x=\"63.623047\" xlink:href=\"#DejaVuSans-53\"/>\n       <use x=\"127.246094\" xlink:href=\"#DejaVuSans-48\"/>\n       <use x=\"190.869141\" xlink:href=\"#DejaVuSans-48\"/>\n       <use x=\"254.492188\" xlink:href=\"#DejaVuSans-48\"/>\n      </g>\n     </g>\n    </g>\n    <g id=\"ytick_3\">\n     <g id=\"line2d_12\">\n      <g>\n       <use style=\"stroke:#000000;stroke-width:0.8;\" x=\"66.053125\" xlink:href=\"#m7c200a173a\" y=\"162.471121\"/>\n      </g>\n     </g>\n     <g id=\"text_13\">\n      <!-- 50000 -->\n      <g transform=\"translate(27.240625 166.270339)scale(0.1 -0.1)\">\n       <use xlink:href=\"#DejaVuSans-53\"/>\n       <use x=\"63.623047\" xlink:href=\"#DejaVuSans-48\"/>\n       <use x=\"127.246094\" xlink:href=\"#DejaVuSans-48\"/>\n       <use x=\"190.869141\" xlink:href=\"#DejaVuSans-48\"/>\n       <use x=\"254.492188\" xlink:href=\"#DejaVuSans-48\"/>\n      </g>\n     </g>\n    </g>\n    <g id=\"ytick_4\">\n     <g id=\"line2d_13\">\n      <g>\n       <use style=\"stroke:#000000;stroke-width:0.8;\" x=\"66.053125\" xlink:href=\"#m7c200a173a\" y=\"136.328499\"/>\n      </g>\n     </g>\n     <g id=\"text_14\">\n      <!-- 75000 -->\n      <g transform=\"translate(27.240625 140.127718)scale(0.1 -0.1)\">\n       <use xlink:href=\"#DejaVuSans-55\"/>\n       <use x=\"63.623047\" xlink:href=\"#DejaVuSans-53\"/>\n       <use x=\"127.246094\" xlink:href=\"#DejaVuSans-48\"/>\n       <use x=\"190.869141\" xlink:href=\"#DejaVuSans-48\"/>\n       <use x=\"254.492188\" xlink:href=\"#DejaVuSans-48\"/>\n      </g>\n     </g>\n    </g>\n    <g id=\"ytick_5\">\n     <g id=\"line2d_14\">\n      <g>\n       <use style=\"stroke:#000000;stroke-width:0.8;\" x=\"66.053125\" xlink:href=\"#m7c200a173a\" y=\"110.185877\"/>\n      </g>\n     </g>\n     <g id=\"text_15\">\n      <!-- 100000 -->\n      <g transform=\"translate(20.878125 113.985096)scale(0.1 -0.1)\">\n       <use xlink:href=\"#DejaVuSans-49\"/>\n       <use x=\"63.623047\" xlink:href=\"#DejaVuSans-48\"/>\n       <use x=\"127.246094\" xlink:href=\"#DejaVuSans-48\"/>\n       <use x=\"190.869141\" xlink:href=\"#DejaVuSans-48\"/>\n       <use x=\"254.492188\" xlink:href=\"#DejaVuSans-48\"/>\n       <use x=\"318.115234\" xlink:href=\"#DejaVuSans-48\"/>\n      </g>\n     </g>\n    </g>\n    <g id=\"ytick_6\">\n     <g id=\"line2d_15\">\n      <g>\n       <use style=\"stroke:#000000;stroke-width:0.8;\" x=\"66.053125\" xlink:href=\"#m7c200a173a\" y=\"84.043256\"/>\n      </g>\n     </g>\n     <g id=\"text_16\">\n      <!-- 125000 -->\n      <g transform=\"translate(20.878125 87.842475)scale(0.1 -0.1)\">\n       <use xlink:href=\"#DejaVuSans-49\"/>\n       <use x=\"63.623047\" xlink:href=\"#DejaVuSans-50\"/>\n       <use x=\"127.246094\" xlink:href=\"#DejaVuSans-53\"/>\n       <use x=\"190.869141\" xlink:href=\"#DejaVuSans-48\"/>\n       <use x=\"254.492188\" xlink:href=\"#DejaVuSans-48\"/>\n       <use x=\"318.115234\" xlink:href=\"#DejaVuSans-48\"/>\n      </g>\n     </g>\n    </g>\n    <g id=\"ytick_7\">\n     <g id=\"line2d_16\">\n      <g>\n       <use style=\"stroke:#000000;stroke-width:0.8;\" x=\"66.053125\" xlink:href=\"#m7c200a173a\" y=\"57.900634\"/>\n      </g>\n     </g>\n     <g id=\"text_17\">\n      <!-- 150000 -->\n      <g transform=\"translate(20.878125 61.699853)scale(0.1 -0.1)\">\n       <use xlink:href=\"#DejaVuSans-49\"/>\n       <use x=\"63.623047\" xlink:href=\"#DejaVuSans-53\"/>\n       <use x=\"127.246094\" xlink:href=\"#DejaVuSans-48\"/>\n       <use x=\"190.869141\" xlink:href=\"#DejaVuSans-48\"/>\n       <use x=\"254.492188\" xlink:href=\"#DejaVuSans-48\"/>\n       <use x=\"318.115234\" xlink:href=\"#DejaVuSans-48\"/>\n      </g>\n     </g>\n    </g>\n    <g id=\"ytick_8\">\n     <g id=\"line2d_17\">\n      <g>\n       <use style=\"stroke:#000000;stroke-width:0.8;\" x=\"66.053125\" xlink:href=\"#m7c200a173a\" y=\"31.758013\"/>\n      </g>\n     </g>\n     <g id=\"text_18\">\n      <!-- 175000 -->\n      <g transform=\"translate(20.878125 35.557231)scale(0.1 -0.1)\">\n       <use xlink:href=\"#DejaVuSans-49\"/>\n       <use x=\"63.623047\" xlink:href=\"#DejaVuSans-55\"/>\n       <use x=\"127.246094\" xlink:href=\"#DejaVuSans-53\"/>\n       <use x=\"190.869141\" xlink:href=\"#DejaVuSans-48\"/>\n       <use x=\"254.492188\" xlink:href=\"#DejaVuSans-48\"/>\n       <use x=\"318.115234\" xlink:href=\"#DejaVuSans-48\"/>\n      </g>\n     </g>\n    </g>\n    <g id=\"text_19\">\n     <!-- New York -->\n     <defs>\n      <path d=\"M 9.8125 72.90625 \nL 23.09375 72.90625 \nL 55.421875 11.921875 \nL 55.421875 72.90625 \nL 64.984375 72.90625 \nL 64.984375 0 \nL 51.703125 0 \nL 19.390625 60.984375 \nL 19.390625 0 \nL 9.8125 0 \nz\n\" id=\"DejaVuSans-78\"/>\n      <path d=\"M 4.203125 54.6875 \nL 13.1875 54.6875 \nL 24.421875 12.015625 \nL 35.59375 54.6875 \nL 46.1875 54.6875 \nL 57.421875 12.015625 \nL 68.609375 54.6875 \nL 77.59375 54.6875 \nL 63.28125 0 \nL 52.6875 0 \nL 40.921875 44.828125 \nL 29.109375 0 \nL 18.5 0 \nz\n\" id=\"DejaVuSans-119\"/>\n      <path id=\"DejaVuSans-32\"/>\n      <path d=\"M -0.203125 72.90625 \nL 10.40625 72.90625 \nL 30.609375 42.921875 \nL 50.6875 72.90625 \nL 61.28125 72.90625 \nL 35.5 34.71875 \nL 35.5 0 \nL 25.59375 0 \nL 25.59375 34.71875 \nz\n\" id=\"DejaVuSans-89\"/>\n      <path d=\"M 30.609375 48.390625 \nQ 23.390625 48.390625 19.1875 42.75 \nQ 14.984375 37.109375 14.984375 27.296875 \nQ 14.984375 17.484375 19.15625 11.84375 \nQ 23.34375 6.203125 30.609375 6.203125 \nQ 37.796875 6.203125 41.984375 11.859375 \nQ 46.1875 17.53125 46.1875 27.296875 \nQ 46.1875 37.015625 41.984375 42.703125 \nQ 37.796875 48.390625 30.609375 48.390625 \nz\nM 30.609375 56 \nQ 42.328125 56 49.015625 48.375 \nQ 55.71875 40.765625 55.71875 27.296875 \nQ 55.71875 13.875 49.015625 6.21875 \nQ 42.328125 -1.421875 30.609375 -1.421875 \nQ 18.84375 -1.421875 12.171875 6.21875 \nQ 5.515625 13.875 5.515625 27.296875 \nQ 5.515625 40.765625 12.171875 48.375 \nQ 18.84375 56 30.609375 56 \nz\n\" id=\"DejaVuSans-111\"/>\n      <path d=\"M 41.109375 46.296875 \nQ 39.59375 47.171875 37.8125 47.578125 \nQ 36.03125 48 33.890625 48 \nQ 26.265625 48 22.1875 43.046875 \nQ 18.109375 38.09375 18.109375 28.8125 \nL 18.109375 0 \nL 9.078125 0 \nL 9.078125 54.6875 \nL 18.109375 54.6875 \nL 18.109375 46.1875 \nQ 20.953125 51.171875 25.484375 53.578125 \nQ 30.03125 56 36.53125 56 \nQ 37.453125 56 38.578125 55.875 \nQ 39.703125 55.765625 41.0625 55.515625 \nz\n\" id=\"DejaVuSans-114\"/>\n      <path d=\"M 9.078125 75.984375 \nL 18.109375 75.984375 \nL 18.109375 31.109375 \nL 44.921875 54.6875 \nL 56.390625 54.6875 \nL 27.390625 29.109375 \nL 57.625 0 \nL 45.90625 0 \nL 18.109375 26.703125 \nL 18.109375 0 \nL 9.078125 0 \nz\n\" id=\"DejaVuSans-107\"/>\n     </defs>\n     <g transform=\"translate(14.798438 139.469219)rotate(-90)scale(0.1 -0.1)\">\n      <use xlink:href=\"#DejaVuSans-78\"/>\n      <use x=\"74.804688\" xlink:href=\"#DejaVuSans-101\"/>\n      <use x=\"136.328125\" xlink:href=\"#DejaVuSans-119\"/>\n      <use x=\"218.115234\" xlink:href=\"#DejaVuSans-32\"/>\n      <use x=\"249.902344\" xlink:href=\"#DejaVuSans-89\"/>\n      <use x=\"310.783203\" xlink:href=\"#DejaVuSans-111\"/>\n      <use x=\"371.964844\" xlink:href=\"#DejaVuSans-114\"/>\n      <use x=\"413.078125\" xlink:href=\"#DejaVuSans-107\"/>\n     </g>\n    </g>\n   </g>\n   <g id=\"line2d_18\">\n    <path clip-path=\"url(#p5eb9164098)\" d=\"M 81.271307 214.756364 \nL 85.028883 214.756364 \nL 88.786458 214.756364 \nL 92.544034 214.756364 \nL 96.30161 214.756364 \nL 100.059186 214.756364 \nL 103.816761 214.756364 \nL 107.574337 214.756364 \nL 111.331913 214.756364 \nL 115.089489 214.756364 \nL 118.847064 214.756364 \nL 122.60464 214.756364 \nL 126.362216 214.756364 \nL 130.119792 214.756364 \nL 133.877367 214.756364 \nL 137.634943 214.756364 \nL 141.392519 214.756364 \nL 145.150095 214.756364 \nL 148.90767 214.756364 \nL 152.665246 214.756364 \nL 156.422822 214.756364 \nL 160.180398 214.756364 \nL 163.937973 214.756364 \nL 167.695549 214.756364 \nL 171.453125 214.756364 \nL 175.210701 214.756364 \nL 178.968277 214.756364 \nL 182.725852 214.756364 \nL 186.483428 214.756364 \nL 190.241004 214.756364 \nL 193.99858 214.756364 \nL 197.756155 214.756364 \nL 201.513731 214.756364 \nL 205.271307 214.756364 \nL 209.028883 214.756364 \nL 212.786458 214.756364 \nL 216.544034 214.756364 \nL 220.30161 214.756364 \nL 224.059186 214.756364 \nL 227.816761 214.756364 \nL 231.574337 214.755318 \nL 235.331913 214.754272 \nL 239.089489 214.744861 \nL 242.847064 214.732312 \nL 246.60464 214.723947 \nL 250.362216 214.67689 \nL 254.119792 214.645519 \nL 257.877367 214.607874 \nL 261.634943 214.599508 \nL 265.392519 214.526309 \nL 269.150095 214.414418 \nL 272.90767 214.316122 \nL 276.665246 214.115347 \nL 280.422822 214.113255 \nL 284.180398 213.745167 \nL 287.937973 213.106241 \nL 291.695549 211.579512 \nL 295.453125 208.791663 \nL 299.210701 205.969306 \nL 302.968277 202.493383 \nL 306.725852 198.234227 \nL 310.483428 192.917863 \nL 314.241004 187.901617 \nL 317.99858 182.50578 \nL 321.756155 175.148201 \nL 325.513731 167.829312 \nL 329.271307 159.950972 \nL 333.028883 152.38216 \nL 336.786458 145.04654 \nL 340.544034 135.457427 \nL 344.30161 126.971532 \nL 348.059186 118.02239 \nL 351.816761 107.062357 \nL 355.574337 95.720642 \nL 359.331913 85.967353 \nL 363.089489 76.916777 \nL 366.847064 68.488396 \nL 370.60464 56.791141 \nL 374.362216 45.583277 \nL 378.119792 34.531222 \nL 381.877367 25.456595 \nL 385.634943 17.083636 \n\" style=\"fill:none;stroke:#1f77b4;stroke-linecap:square;stroke-width:1.5;\"/>\n   </g>\n   <g id=\"patch_3\">\n    <path d=\"M 66.053125 224.64 \nL 66.053125 7.2 \n\" style=\"fill:none;stroke:#000000;stroke-linecap:square;stroke-linejoin:miter;stroke-width:0.8;\"/>\n   </g>\n   <g id=\"patch_4\">\n    <path d=\"M 400.853125 224.64 \nL 400.853125 7.2 \n\" style=\"fill:none;stroke:#000000;stroke-linecap:square;stroke-linejoin:miter;stroke-width:0.8;\"/>\n   </g>\n   <g id=\"patch_5\">\n    <path d=\"M 66.053125 224.64 \nL 400.853125 224.64 \n\" style=\"fill:none;stroke:#000000;stroke-linecap:square;stroke-linejoin:miter;stroke-width:0.8;\"/>\n   </g>\n   <g id=\"patch_6\">\n    <path d=\"M 66.053125 7.2 \nL 400.853125 7.2 \n\" style=\"fill:none;stroke:#000000;stroke-linecap:square;stroke-linejoin:miter;stroke-width:0.8;\"/>\n   </g>\n  </g>\n </g>\n <defs>\n  <clipPath id=\"p5eb9164098\">\n   <rect height=\"217.44\" width=\"334.8\" x=\"66.053125\" y=\"7.2\"/>\n  </clipPath>\n </defs>\n</svg>\n",
      "image/png": "[encoded data removed]"
     },
     "metadata": {
      "needs_background": "light"
     }
    }
   ],
   "source": [
    "print(ds_US_states['New York'])\n",
    "ds_US_states['New York'].plot()"
   ]
  },
  {
   "cell_type": "code",
   "execution_count": 13,
   "metadata": {},
   "outputs": [],
   "source": [
    "def calc_growth_rate(cases):\n",
    "    '''\n",
    "    Calculates the exponential growth rate from first incidence of COVID19 to last recorded value\n",
    "    Based on the formula:\n",
    "        P(t) = A exp(k * t)\n",
    "    Where P is the population at time t, A is the initial population value, and k is the growth rate.\n",
    "\n",
    "            Parameters:\n",
    "                total_cases (list): cumulative list of total cases\n",
    "\n",
    "            Returns:\n",
    "                k (float): calculated growth rate\n",
    "    '''     \n",
    "    i_0 = np.nonzero(cases)[0][0]\n",
    "    \n",
    "    P = cases[-1]\n",
    "    A = cases[i_0]\n",
    "    t = len(cases) - i_0 - 1 \n",
    "\n",
    "    k = m.log(P / A) / t\n",
    "    return k"
   ]
  },
  {
   "cell_type": "code",
   "execution_count": 14,
   "metadata": {},
   "outputs": [
    {
     "output_type": "stream",
     "name": "stdout",
     "text": "0.29633358248719566\n"
    }
   ],
   "source": [
    "k = calc_growth_rate(ds_US_states['New York'].values)\n",
    "print(k)"
   ]
  },
  {
   "cell_type": "markdown",
   "metadata": {},
   "source": [
    "## Calculating Case Doubling Time\n",
    "\n",
    "$$ T_d = (t_2 - t_1) * \\frac{ln(2)}{ln(\\frac{q_2}{q_1})}$$\n",
    "where *T_d* is the case doubling time, *t* is time, and *q* is the growing quantity, assuming a constant growth rate in %.\n",
    "\n"
   ]
  },
  {
   "cell_type": "code",
   "execution_count": 15,
   "metadata": {},
   "outputs": [],
   "source": [
    "def calc_doubling_time(cases):\n",
    "    '''\n",
    "    Calculates the exponential growth rate from first incidence of COVID19 to last recorded value\n",
    "    Based on the formula:\n",
    "        T_d = (t_2 - t_1) * ln(2) / ln(q_2 / q_1)\n",
    "\n",
    "    Where *T_d* is the case doubling time, *t* is time, and *q* is the growing quantity, assuming a constant growth rate in %.\n",
    "\n",
    "            Parameters:\n",
    "                total_cases (list): cumulative list of total cases\n",
    "\n",
    "            Returns:\n",
    "                k (float): calculated growth rate\n",
    "    '''     \n",
    "    i_0 = np.nonzero(cases)[0][0]\n",
    "    \n",
    "    q_1 = cases[i_0]\n",
    "    q_2 = cases[-1]\n",
    "    delta_t = len(cases) - i_0 - 1 \n",
    "\n",
    "    t_doubling = delta_t * np.log(2) / np.log(q_2 / q_1)\n",
    "    return t_doubling"
   ]
  },
  {
   "cell_type": "code",
   "execution_count": 16,
   "metadata": {},
   "outputs": [
    {
     "output_type": "stream",
     "name": "stdout",
     "text": "2.339077382800161\n"
    }
   ],
   "source": [
    "t_doubling = calc_doubling_time(ds_US_states['New York'].values)\n",
    "print(t_doubling)"
   ]
  },
  {
   "cell_type": "markdown",
   "metadata": {},
   "source": [
    "## Calculate Growth Rate in All States"
   ]
  },
  {
   "cell_type": "code",
   "execution_count": 14,
   "metadata": {},
   "outputs": [
    {
     "name": "stdout",
     "output_type": "stream",
     "text": [
      "safe\n",
      "<xarray.DataArray 'Washington' (time: 69)>\n",
      "array([   1,    1,    1,    1,    1,    1,    1,    1,    1,    1,    1,    1,\n",
      "          1,    1,    1,    1,    1,    1,    1,    1,    1,    1,    1,    1,\n",
      "          1,    1,    1,    1,    1,    1,    1,    1,    1,    1,    1,    1,\n",
      "          1,    1,    7,   11,   18,   27,   39,   70,   78,  102,  122,  122,\n",
      "        167,  282,  442,  568,  642,  603,  779,  955, 1022, 1374, 1524, 1793,\n",
      "       1997, 2221, 2328, 2591, 3207, 3477, 4030, 4465, 4923])\n",
      "Dimensions without coordinates: time\n",
      "Attributes:\n",
      "    state:        Washington\n",
      "    country:      US\n",
      "    index:        1293\n",
      "    growth_rate:  0.1250246085258559\n"
     ]
    }
   ],
   "source": [
    "ds_US_k = ds_US_states.copy()\n",
    "for state in ds_US_states:\n",
    "    if ds_US_states[state].values[-1] != 0:\n",
    "        k = calc_growth_rate(ds_US_states[state].values)\n",
    "        ds_US_k[state].attrs['growth_rate'] = k\n",
    "    else:\n",
    "        del ds_US_k[state]\n",
    "        print('safe')\n",
    "        \n",
    "print(ds_US_k['Washington'])"
   ]
  },
  {
   "cell_type": "markdown",
   "metadata": {},
   "source": [
    "## Compare to ERA5 temperature values"
   ]
  },
  {
   "cell_type": "code",
   "execution_count": 15,
   "metadata": {},
   "outputs": [],
   "source": [
    "era5_dict = era5_state_dict\n",
    "era5 = pd.read_csv(era5_dict['file']).to_xarray()"
   ]
  },
  {
   "cell_type": "code",
   "execution_count": 16,
   "metadata": {},
   "outputs": [],
   "source": [
    "temps = [era5['2019-11'].values, era5['2019-12'].values, era5['2020-01'].values, era5['2020-02'].values]\n",
    "mean_temps = np.mean(temps, axis = 0)"
   ]
  },
  {
   "cell_type": "code",
   "execution_count": 17,
   "metadata": {},
   "outputs": [
    {
     "data": {
      "text/plain": [
       "<xarray.DataArray 'Washington' (time: 69)>\n",
       "array([   1,    1,    1,    1,    1,    1,    1,    1,    1,    1,    1,    1,\n",
       "          1,    1,    1,    1,    1,    1,    1,    1,    1,    1,    1,    1,\n",
       "          1,    1,    1,    1,    1,    1,    1,    1,    1,    1,    1,    1,\n",
       "          1,    1,    7,   11,   18,   27,   39,   70,   78,  102,  122,  122,\n",
       "        167,  282,  442,  568,  642,  603,  779,  955, 1022, 1374, 1524, 1793,\n",
       "       1997, 2221, 2328, 2591, 3207, 3477, 4030, 4465, 4923])\n",
       "Dimensions without coordinates: time\n",
       "Attributes:\n",
       "    state:        Washington\n",
       "    country:      US\n",
       "    index:        1293\n",
       "    growth_rate:  0.1250246085258559\n",
       "    mean_temp:    2.3008194"
      ]
     },
     "execution_count": 17,
     "metadata": {},
     "output_type": "execute_result"
    }
   ],
   "source": [
    "for state in ds_US_k:\n",
    "    ds_US_k[state].attrs['mean_temp'] = mean_temps[ds_US_k[state].attrs['index']]\n",
    "ds_US_k['Washington']"
   ]
  },
  {
   "cell_type": "code",
   "execution_count": 18,
   "metadata": {},
   "outputs": [],
   "source": [
    "growth_rates = []\n",
    "mean_temps = []\n",
    "\n",
    "for state in ds_US_k:\n",
    "    growth_rates.append(ds_US_k[state].attrs['growth_rate'])\n",
    "    mean_temps.append(ds_US_k[state].attrs['mean_temp'])"
   ]
  },
  {
   "cell_type": "code",
   "execution_count": 19,
   "metadata": {},
   "outputs": [
    {
     "data": {
      "image/png": "[encoded data removed]",
      "text/plain": [
       "<Figure size 720x576 with 1 Axes>"
      ]
     },
     "metadata": {
      "needs_background": "light"
     },
     "output_type": "display_data"
    }
   ],
   "source": [
    "plt.figure(figsize=(10,8))\n",
    "plt.scatter(mean_temps, growth_rates)\n",
    "plt.title('COVID19 Growth Rate in US States', fontsize=20)\n",
    "plt.xlabel('Mean ERA5 Temperature Nov19:Feb20 (degC)', fontsize=15)\n",
    "plt.ylabel('Exponential Growth Rate', fontsize=15);"
   ]
  }
 ],
 "metadata": {
  "kernelspec": {
   "display_name": "Python 3",
   "language": "python",
   "name": "python3"
  },
  "language_info": {
   "codemirror_mode": {
    "name": "ipython",
    "version": 3
   },
   "file_extension": ".py",
   "mimetype": "text/x-python",
   "name": "python",
   "nbconvert_exporter": "python",
   "pygments_lexer": "ipython3",
   "version": "3.7.1-final"
  }
 },
 "nbformat": 4,
 "nbformat_minor": 2
}